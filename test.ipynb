{
 "cells": [
  {
   "cell_type": "code",
   "execution_count": 5,
   "metadata": {},
   "outputs": [],
   "source": [
    "from custom_env import CustomEnv\n",
    "from simulation_manager import SimulationManager\n",
    "PYGAME_DETECT_AVX2=1"
   ]
  },
  {
   "cell_type": "code",
   "execution_count": 6,
   "metadata": {},
   "outputs": [],
   "source": [
    "model_args = {\n",
    "    'num_actions': 11\n",
    "}\n",
    "\n",
    "simulation_manager_args = {\n",
    "    'number_of_environments': 10,\n",
    "    'number_of_curricula': 3\n",
    "}\n",
    "\n",
    "game_manager_args = {\n",
    "    'map_pixel_size': 16,\n",
    "    'screen_size': 800,\n",
    "    'kg_completness': 1,\n",
    "    'vision_range': 2\n",
    "}"
   ]
  },
  {
   "cell_type": "code",
   "execution_count": 7,
   "metadata": {},
   "outputs": [
    {
     "name": "stdout",
     "output_type": "stream",
     "text": [
      "Player node index: 0, player position: (0, 11)\n"
     ]
    },
    {
     "ename": "KeyboardInterrupt",
     "evalue": "",
     "output_type": "error",
     "traceback": [
      "\u001b[1;31m---------------------------------------------------------------------------\u001b[0m",
      "\u001b[1;31mKeyboardInterrupt\u001b[0m                         Traceback (most recent call last)",
      "Cell \u001b[1;32mIn[7], line 4\u001b[0m\n\u001b[0;32m      1\u001b[0m \u001b[38;5;28;01mfrom\u001b[39;00m \u001b[38;5;21;01mgame_manager\u001b[39;00m \u001b[38;5;28;01mimport\u001b[39;00m GameManager\n\u001b[0;32m      2\u001b[0m game_manager \u001b[38;5;241m=\u001b[39m GameManager(game_manager_args[\u001b[38;5;124m'\u001b[39m\u001b[38;5;124mmap_pixel_size\u001b[39m\u001b[38;5;124m'\u001b[39m], game_manager_args[\u001b[38;5;124m'\u001b[39m\u001b[38;5;124mscreen_size\u001b[39m\u001b[38;5;124m'\u001b[39m],\n\u001b[0;32m      3\u001b[0m                             game_manager_args[\u001b[38;5;124m'\u001b[39m\u001b[38;5;124mkg_completness\u001b[39m\u001b[38;5;124m'\u001b[39m], game_manager_args[\u001b[38;5;124m'\u001b[39m\u001b[38;5;124mvision_range\u001b[39m\u001b[38;5;124m'\u001b[39m])\n\u001b[1;32m----> 4\u001b[0m \u001b[43mgame_manager\u001b[49m\u001b[38;5;241;43m.\u001b[39;49m\u001b[43mrun\u001b[49m\u001b[43m(\u001b[49m\u001b[43m)\u001b[49m\n",
      "File \u001b[1;32mc:\\Users\\anton\\Dev\\ABM\\game_manager.py:88\u001b[0m, in \u001b[0;36mGameManager.run\u001b[1;34m(self)\u001b[0m\n\u001b[0;32m     86\u001b[0m \u001b[38;5;28mself\u001b[39m\u001b[38;5;241m.\u001b[39minitialise_rendering()\n\u001b[0;32m     87\u001b[0m \u001b[38;5;28;01mwhile\u001b[39;00m \u001b[38;5;28mself\u001b[39m\u001b[38;5;241m.\u001b[39mrunning:\n\u001b[1;32m---> 88\u001b[0m     \u001b[38;5;28;43mself\u001b[39;49m\u001b[38;5;241;43m.\u001b[39;49m\u001b[43mgame_step\u001b[49m\u001b[43m(\u001b[49m\u001b[43m)\u001b[49m\n\u001b[0;32m     89\u001b[0m     \u001b[38;5;66;03m# pygame.time.wait(1000)\u001b[39;00m\n\u001b[0;32m     91\u001b[0m pygame\u001b[38;5;241m.\u001b[39mquit()\n",
      "File \u001b[1;32mc:\\Users\\anton\\Dev\\ABM\\game_manager.py:81\u001b[0m, in \u001b[0;36mGameManager.game_step\u001b[1;34m(self)\u001b[0m\n\u001b[0;32m     79\u001b[0m \u001b[38;5;28;01mdef\u001b[39;00m \u001b[38;5;21mgame_step\u001b[39m(\u001b[38;5;28mself\u001b[39m):\n\u001b[0;32m     80\u001b[0m     \u001b[38;5;28mself\u001b[39m\u001b[38;5;241m.\u001b[39mupdate()\n\u001b[1;32m---> 81\u001b[0m     \u001b[38;5;28;43mself\u001b[39;49m\u001b[38;5;241;43m.\u001b[39;49m\u001b[43mrerender\u001b[49m\u001b[43m(\u001b[49m\u001b[43m)\u001b[49m\n",
      "File \u001b[1;32mc:\\Users\\anton\\Dev\\ABM\\game_manager.py:64\u001b[0m, in \u001b[0;36mGameManager.rerender\u001b[1;34m(self)\u001b[0m\n\u001b[0;32m     62\u001b[0m \u001b[38;5;28mself\u001b[39m\u001b[38;5;241m.\u001b[39mrenderer\u001b[38;5;241m.\u001b[39mrender_updated_tiles()\n\u001b[0;32m     63\u001b[0m \u001b[38;5;66;03m# self.renderer.render_heatmap(self.target_manager.min_path_length, bool_heatmap=True)\u001b[39;00m\n\u001b[1;32m---> 64\u001b[0m \u001b[43mpygame\u001b[49m\u001b[38;5;241;43m.\u001b[39;49m\u001b[43mdisplay\u001b[49m\u001b[38;5;241;43m.\u001b[39;49m\u001b[43mflip\u001b[49m\u001b[43m(\u001b[49m\u001b[43m)\u001b[49m\n",
      "\u001b[1;31mKeyboardInterrupt\u001b[0m: "
     ]
    }
   ],
   "source": [
    "from game_manager import GameManager\n",
    "game_manager = GameManager(game_manager_args['map_pixel_size'], game_manager_args['screen_size'],\n",
    "                            game_manager_args['kg_completness'], game_manager_args['vision_range'])\n",
    "game_manager.run()"
   ]
  },
  {
   "cell_type": "code",
   "execution_count": 1,
   "metadata": {},
   "outputs": [
    {
     "name": "stderr",
     "output_type": "stream",
     "text": [
      "<frozen importlib._bootstrap>:241: RuntimeWarning: Your system is avx2 capable but pygame was not built with support for it. The performance of some of your blits could be adversely affected. Consider enabling compile time detection with environment variables like PYGAME_DETECT_AVX2=1 if you are compiling without cross compilation.\n"
     ]
    },
    {
     "name": "stdout",
     "output_type": "stream",
     "text": [
      "pygame 2.5.2 (SDL 2.28.5, Python 3.11.7)\n",
      "Hello from the pygame community. https://www.pygame.org/contribute.html\n"
     ]
    },
    {
     "ename": "NameError",
     "evalue": "name 'game_manager_args' is not defined",
     "output_type": "error",
     "traceback": [
      "\u001b[1;31m---------------------------------------------------------------------------\u001b[0m",
      "\u001b[1;31mNameError\u001b[0m                                 Traceback (most recent call last)",
      "Cell \u001b[1;32mIn[1], line 2\u001b[0m\n\u001b[0;32m      1\u001b[0m \u001b[38;5;28;01mfrom\u001b[39;00m \u001b[38;5;21;01msimulation_manager\u001b[39;00m \u001b[38;5;28;01mimport\u001b[39;00m SimulationManager\n\u001b[1;32m----> 2\u001b[0m simulation_manager \u001b[38;5;241m=\u001b[39m SimulationManager(\u001b[43mgame_manager_args\u001b[49m,\n\u001b[0;32m      3\u001b[0m                                         simulation_manager_args[\u001b[38;5;124m'\u001b[39m\u001b[38;5;124mnumber_of_environments\u001b[39m\u001b[38;5;124m'\u001b[39m],\n\u001b[0;32m      4\u001b[0m                                         simulation_manager_args[\u001b[38;5;124m'\u001b[39m\u001b[38;5;124mnumber_of_curricula\u001b[39m\u001b[38;5;124m'\u001b[39m])\n\u001b[0;32m      6\u001b[0m simulation_manager\u001b[38;5;241m.\u001b[39mgame_managers[\u001b[38;5;241m0\u001b[39m]\u001b[38;5;241m.\u001b[39mrun()\n",
      "\u001b[1;31mNameError\u001b[0m: name 'game_manager_args' is not defined"
     ]
    }
   ],
   "source": [
    "from simulation_manager import SimulationManager\n",
    "simulation_manager = SimulationManager(game_manager_args,\n",
    "                                        simulation_manager_args['number_of_environments'],\n",
    "                                        simulation_manager_args['number_of_curricula'])\n",
    "\n",
    "simulation_manager.game_managers[0].run()"
   ]
  }
 ],
 "metadata": {
  "kernelspec": {
   "display_name": "Python 3",
   "language": "python",
   "name": "python3"
  },
  "language_info": {
   "codemirror_mode": {
    "name": "ipython",
    "version": 3
   },
   "file_extension": ".py",
   "mimetype": "text/x-python",
   "name": "python",
   "nbconvert_exporter": "python",
   "pygments_lexer": "ipython3",
   "version": "3.11.7"
  }
 },
 "nbformat": 4,
 "nbformat_minor": 2
}
