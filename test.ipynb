{
 "cells": [
  {
   "cell_type": "code",
   "execution_count": 2,
   "metadata": {},
   "outputs": [
    {
     "ename": "FileNotFoundError",
     "evalue": "[Errno 2] No such file or directory: '7x7\\\\maps/0.npy'",
     "output_type": "error",
     "traceback": [
      "\u001b[0;31m---------------------------------------------------------------------------\u001b[0m",
      "\u001b[0;31mFileNotFoundError\u001b[0m                         Traceback (most recent call last)",
      "\u001b[1;32m/home/antoniomangoni/Projects/ABM/test.ipynb Cell 1\u001b[0m line \u001b[0;36m1\n\u001b[1;32m     <a href='vscode-notebook-cell:/home/antoniomangoni/Projects/ABM/test.ipynb#W0sZmlsZQ%3D%3D?line=11'>12</a>\u001b[0m     map_path \u001b[39m=\u001b[39m os\u001b[39m.\u001b[39mpath\u001b[39m.\u001b[39mjoin(path, \u001b[39mstr\u001b[39m(map_name) \u001b[39m+\u001b[39m extension)\n\u001b[1;32m     <a href='vscode-notebook-cell:/home/antoniomangoni/Projects/ABM/test.ipynb#W0sZmlsZQ%3D%3D?line=12'>13</a>\u001b[0m     \u001b[39mreturn\u001b[39;00m np\u001b[39m.\u001b[39mload(map_path)\n\u001b[0;32m---> <a href='vscode-notebook-cell:/home/antoniomangoni/Projects/ABM/test.ipynb#W0sZmlsZQ%3D%3D?line=14'>15</a>\u001b[0m a \u001b[39m=\u001b[39m import_map(\u001b[39m0\u001b[39;49m)\n\u001b[1;32m     <a href='vscode-notebook-cell:/home/antoniomangoni/Projects/ABM/test.ipynb#W0sZmlsZQ%3D%3D?line=15'>16</a>\u001b[0m np\u001b[39m.\u001b[39mset_printoptions(threshold\u001b[39m=\u001b[39mnp\u001b[39m.\u001b[39minf)\n\u001b[1;32m     <a href='vscode-notebook-cell:/home/antoniomangoni/Projects/ABM/test.ipynb#W0sZmlsZQ%3D%3D?line=17'>18</a>\u001b[0m \u001b[39mprint\u001b[39m(a\u001b[39m.\u001b[39mshape)\n",
      "\u001b[1;32m/home/antoniomangoni/Projects/ABM/test.ipynb Cell 1\u001b[0m line \u001b[0;36m1\n\u001b[1;32m     <a href='vscode-notebook-cell:/home/antoniomangoni/Projects/ABM/test.ipynb#W0sZmlsZQ%3D%3D?line=10'>11</a>\u001b[0m \u001b[39mdef\u001b[39;00m \u001b[39mimport_map\u001b[39m(map_name):\n\u001b[1;32m     <a href='vscode-notebook-cell:/home/antoniomangoni/Projects/ABM/test.ipynb#W0sZmlsZQ%3D%3D?line=11'>12</a>\u001b[0m     map_path \u001b[39m=\u001b[39m os\u001b[39m.\u001b[39mpath\u001b[39m.\u001b[39mjoin(path, \u001b[39mstr\u001b[39m(map_name) \u001b[39m+\u001b[39m extension)\n\u001b[0;32m---> <a href='vscode-notebook-cell:/home/antoniomangoni/Projects/ABM/test.ipynb#W0sZmlsZQ%3D%3D?line=12'>13</a>\u001b[0m     \u001b[39mreturn\u001b[39;00m np\u001b[39m.\u001b[39;49mload(map_path)\n",
      "File \u001b[0;32m~/anaconda3/envs/abm/lib/python3.11/site-packages/numpy/lib/npyio.py:427\u001b[0m, in \u001b[0;36mload\u001b[0;34m(file, mmap_mode, allow_pickle, fix_imports, encoding, max_header_size)\u001b[0m\n\u001b[1;32m    425\u001b[0m     own_fid \u001b[39m=\u001b[39m \u001b[39mFalse\u001b[39;00m\n\u001b[1;32m    426\u001b[0m \u001b[39melse\u001b[39;00m:\n\u001b[0;32m--> 427\u001b[0m     fid \u001b[39m=\u001b[39m stack\u001b[39m.\u001b[39menter_context(\u001b[39mopen\u001b[39;49m(os_fspath(file), \u001b[39m\"\u001b[39;49m\u001b[39mrb\u001b[39;49m\u001b[39m\"\u001b[39;49m))\n\u001b[1;32m    428\u001b[0m     own_fid \u001b[39m=\u001b[39m \u001b[39mTrue\u001b[39;00m\n\u001b[1;32m    430\u001b[0m \u001b[39m# Code to distinguish from NumPy binary files and pickles.\u001b[39;00m\n",
      "\u001b[0;31mFileNotFoundError\u001b[0m: [Errno 2] No such file or directory: '7x7\\\\maps/0.npy'"
     ]
    }
   ],
   "source": [
    "path = '7x7\\maps'\n",
    "extension = '.npy'\n",
    "\n",
    "import numpy as np\n",
    "import os\n",
    "\n",
    "path = '7x7\\maps'\n",
    "extension = '.npy'\n",
    "\n",
    "# import the numpy array\n",
    "def import_map(map_name):\n",
    "    map_path = os.path.join(path, str(map_name) + extension)\n",
    "    return np.load(map_path)\n",
    "\n",
    "a = import_map(0)\n",
    "np.set_printoptions(threshold=np.inf)\n",
    "\n",
    "print(a.shape)"
   ]
  },
  {
   "cell_type": "code",
   "execution_count": 12,
   "metadata": {},
   "outputs": [
    {
     "data": {
      "text/plain": [
       "array([[[0, 0, 0, 0, 0, 0, 0],\n",
       "        [0, 0, 0, 0, 0, 0, 0],\n",
       "        [0, 0, 0, 0, 0, 0, 0],\n",
       "        [0, 0, 0, 0, 0, 0, 0],\n",
       "        [0, 0, 0, 0, 0, 0, 0],\n",
       "        [0, 0, 0, 0, 0, 0, 0],\n",
       "        [0, 0, 0, 0, 0, 0, 0]],\n",
       "\n",
       "       [[0, 0, 0, 0, 0, 0, 0],\n",
       "        [0, 0, 0, 0, 0, 0, 0],\n",
       "        [0, 0, 0, 0, 0, 0, 0],\n",
       "        [0, 0, 0, 0, 0, 0, 0],\n",
       "        [0, 0, 0, 0, 0, 0, 0],\n",
       "        [0, 0, 0, 0, 0, 0, 0],\n",
       "        [0, 0, 0, 0, 0, 0, 0]]])"
      ]
     },
     "execution_count": 12,
     "metadata": {},
     "output_type": "execute_result"
    }
   ],
   "source": [
    "b = np.zeros((2, 7, 7), dtype=int)\n",
    "b"
   ]
  },
  {
   "cell_type": "code",
   "execution_count": 5,
   "metadata": {},
   "outputs": [
    {
     "name": "stdout",
     "output_type": "stream",
     "text": [
      "0.2\n"
     ]
    }
   ],
   "source": [
    "thresholds_array = np.array([0.2, 0.38, 0.5, 0.7, 0.9, 1.0])\n",
    "print(thresholds_array[0])"
   ]
  },
  {
   "cell_type": "code",
   "execution_count": null,
   "metadata": {},
   "outputs": [],
   "source": [
    "    for i in range(10):\n",
    "        # Create a new heightmap and save it to a file in the folder '7x7'. The images in a subfolder named '7x7/img' and the heightmaps in a subfolder named '7x7/maps'\n",
    "        heightmap_generator = HeightmapGenerator(width=350, height=350, scale=5, thresholds=thresholds, octaves=3, persistence=0.2, lacunarity=1.0)\n",
    "        heightmap = heightmap_generator.generate()\n",
    "        heightmap_generator.save_heightmap(f\"7x7/maps/{i}.npy\")\n",
    "        renderer = TerrainRenderer(heightmap, colors, tile_size=50)\n",
    "        # renderer.real_time_update()\n",
    "        renderer.save_image(f\"7x7/img/{i}.png\")"
   ]
  },
  {
   "cell_type": "code",
   "execution_count": null,
   "metadata": {},
   "outputs": [],
   "source": [
    "\n",
    "\n",
    "# class TerrainRenderer:\n",
    "#     def __init__(\n",
    "#             self, heightmap: np.ndarray,\n",
    "#             terrain_colors: np.ndarray,\n",
    "#             entity_map: Dict[str, int],\n",
    "#             entity_classes: np.ndarray,\n",
    "#             entity_spawn_probabilities: np.ndarray,\n",
    "#             terrain_entity_map: Dict[int, int],\n",
    "#             tile_size: int = 50):\n",
    "        \n",
    "#         pygame.init()\n",
    "#         self.heightmap = heightmap\n",
    "#         self.entity_locations = np.full((heightmap.shape), -1)\n",
    "#         self.terrain_colors = terrain_colors\n",
    "#         self.entity_map = entity_map\n",
    "#         self.entity_classes = entity_classes\n",
    "#         self.spawn_probs = entity_spawn_probabilities\n",
    "#         self.terrain_entity_map = terrain_entity_map\n",
    "#         self.width, self.height = self.heightmap.shape\n",
    "#         self.tile_size = tile_size\n",
    "#         self.surface = pygame.display.set_mode((self.width * self.tile_size, self.height * self.tile_size))\n",
    "#         self.entity_group = pygame.sprite.Group()\n",
    "#         self.populate_tiles()\n",
    "#         self.add_player()\n",
    "\n",
    "#     def create_entity(self, entity_type: int, x: int, y: int):\n",
    "#         if random.random() > self.spawn_probs[entity_type]:\n",
    "#             return\n",
    "\n",
    "#         pixel_x, pixel_y = x * self.tile_size, y * self.tile_size\n",
    "#         entity_class = self.entity_classes[entity_type]\n",
    "#         entity = entity_class(pixel_x, pixel_y, pixel_size=self.tile_size)\n",
    "#         self.entity_group.add(entity)\n",
    "#         self.entity_locations[x, y] = entity_type\n",
    "\n",
    "#     def populate_tiles(self):\n",
    "#         self.entity_group.empty()\n",
    "#         for x in range(self.width):\n",
    "#             for y in range(self.height):\n",
    "#                 terrain_code = self.heightmap[x, y]\n",
    "#                 entity_type = self.terrain_entity_map.get(terrain_code)\n",
    "#                 if entity_type is not None:\n",
    "#                     self.create_entity(entity_type, x, y)\n",
    "\n",
    "#     def add_player(self):\n",
    "#         empty_tiles = np.argwhere(self.entity_locations == -1)\n",
    "#         print(f'Empty tiles: {empty_tiles}')\n",
    "#         player_location = random.choice(empty_tiles)\n",
    "#         print(f'Player location: {player_location}')\n",
    "#         self.create_entity(self.entity_map['player'], player_location[0], player_location[1])\n",
    "#         print('Player added')\n",
    "\n",
    "#     def render(self):\n",
    "#         self.surface.fill((0, 0, 0))                                                \n",
    "#         for x in range(self.width):\n",
    "#             for y in range(self.height):\n",
    "#                 terrain = self.heightmap[x, y]\n",
    "#                 color = self.terrain_colors[terrain]\n",
    "#                 pygame.draw.rect(self.surface, color, (x * self.tile_size, y * self.tile_size, self.tile_size, self.tile_size))\n",
    "        \n",
    "#         self.entity_group.draw(self.surface)\n",
    "#         pygame.display.flip()\n",
    "\n",
    "#     def update_heightmap(self, new_heightmap: np.ndarray):\n",
    "#         self.heightmap = new_heightmap\n",
    "#         self.populate_tiles()\n",
    "\n",
    "\n",
    "#     def real_time_update(self, update_interval=50):\n",
    "#         clock = pygame.time.Clock()\n",
    "#         running = True\n",
    "#         while running:\n",
    "#             for event in pygame.event.get():\n",
    "#                 if event.type == pygame.QUIT:\n",
    "#                     running = False\n",
    "#             self.render()\n",
    "#             clock.tick(update_interval)\n",
    "#         pygame.quit()\n",
    "\n",
    "#     def save_image(self, file_path: str):\n",
    "#         pygame.image.save(self.surface, file_path)\n",
    "\n",
    "#     def print(self):\n",
    "#         print('Terrain:')\n",
    "#         print(np.transpose(self.heightmap))\n",
    "#         print('Entities:')\n",
    "#         print(np.transpose(self.entity_locations))"
   ]
  }
 ],
 "metadata": {
  "kernelspec": {
   "display_name": "Python 3",
   "language": "python",
   "name": "python3"
  },
  "language_info": {
   "codemirror_mode": {
    "name": "ipython",
    "version": 3
   },
   "file_extension": ".py",
   "mimetype": "text/x-python",
   "name": "python",
   "nbconvert_exporter": "python",
   "pygments_lexer": "ipython3",
   "version": "3.11.7"
  }
 },
 "nbformat": 4,
 "nbformat_minor": 2
}
