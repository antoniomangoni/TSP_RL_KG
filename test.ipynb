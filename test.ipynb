{
 "cells": [
  {
   "cell_type": "code",
   "execution_count": null,
   "metadata": {},
   "outputs": [],
   "source": [
    "def complete_graph(self):\n",
    "    self.add_nodes()\n",
    "    self.create_terrain_edges()\n",
    "    # print number of non-zero edges\n",
    "    non_zero_edges = torch.sum(self.graph.edge_attr[:, 1]).item()\n",
    "    num_edges = self.graph.edge_index.shape[1]\n",
    "    terrain_edges = 2 * ((self.environment.width * (self.environment.height - 1)) + (self.environment.height * (self.environment.width - 1)))\n",
    "    assert non_zero_edges == terrain_edges, f\"Terrain edges are not equal to non-zero edges: {non_zero_edges} != {terrain_edges}\"\t\n",
    "    self.add_entity_edges()\n",
    "    non_zero_edges_ = torch.sum(self.graph.edge_attr[:, 1]).item()\n",
    "    # print only the entity edges\n",
    "    print()\n",
    "    assert non_zero_edges_ == len(self.graph.edge_index[0]) - non_zero_edges, f\"Entity edges are not equal to non-zero edges: {non_zero_edges_} != {len(self.graph.edge_index[0]) - non_zero_edges}, {self.graph.edge_index}, \"\n",
    "    \n",
    "    \n",
    "    \n",
    "    \n",
    "    print(f\"Graph completed with {self.current_edge_index} edges\")\n",
    "    print(f\"Graph x shape: {self.graph.x.shape}\")\n",
    "    print(f\"Graph edge_index shape: {self.graph.edge_index.shape}\") \n",
    "    print(f\"Graph edge_attr shape: {self.graph.edge_attr.shape}\")\n",
    "    print(f\"Graph x: {self.graph.x}\")\n",
    "    print(f\"Graph edge_index: {self.graph.edge_index}\")\n",
    "    print(f\"Graph edge_attr: {self.graph.edge_attr}\")\n",
    "    exit()"
   ]
  }
 ],
 "metadata": {
  "kernelspec": {
   "display_name": "Python 3",
   "language": "python",
   "name": "python3"
  },
  "language_info": {
   "codemirror_mode": {
    "name": "ipython",
    "version": 3
   },
   "file_extension": ".py",
   "mimetype": "text/x-python",
   "name": "python",
   "nbconvert_exporter": "python",
   "pygments_lexer": "ipython3",
   "version": "3.11.7"
  }
 },
 "nbformat": 4,
 "nbformat_minor": 2
}
