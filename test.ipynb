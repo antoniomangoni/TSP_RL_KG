{
 "cells": [
  {
   "cell_type": "code",
   "execution_count": null,
   "metadata": {},
   "outputs": [],
   "source": [
    "    def plot_curriculum__(self, step_size):\n",
    "        energy_values = [gm.target_manager.target_route_energy for gm in self.game_managers]\n",
    "        simulation_points = [energy_values[i] for i in self.curriculum_indices]\n",
    "\n",
    "        plt.figure(figsize=(12, 6))\n",
    "        ax1 = plt.subplot(1, 2, 1)  # First subplot\n",
    "        ax1.plot(energy_values, label='Energy for trade route', color='blue')\n",
    "        ax1.scatter(self.curriculum_indices, simulation_points, color='red', zorder=5, label='Simulation Points', s=50)\n",
    "        ax1.set_xlabel('Environment index')\n",
    "        ax1.set_ylabel('Energy required for trade route')\n",
    "        ax1.set_title('Complete Energy Plot')\n",
    "        ax1.legend()\n",
    "\n",
    "        ax2 = plt.subplot(1, 2, 2)  # Second subplot\n",
    "        ax2.plot(energy_values, label='Energy for trade route', color='blue')\n",
    "        ax2.scatter(self.curriculum_indices, simulation_points, color='red', zorder=5, label='Selected Curriculum Points', s=50)\n",
    "        ax2.set_xlabel('Curriculum index')\n",
    "        ax2.set_ylabel('Energy required for trade route')\n",
    "        ax2.set_title('Energy Plot Indexed by Curriculum')\n",
    "        ax2.legend()\n",
    "\n",
    "        # Use figtext to add a subtitle for step size as a general note for the whole figure\n",
    "        plt.figtext(0.5, 0.01, f'Curriculum step size: ~{step_size} energy units', fontsize=10, color='blue', ha='center')\n",
    "\n",
    "        plt.tight_layout()\n",
    "        plt.show()\n",
    "\n",
    "    def plot_curriculum_(self, step_size):\n",
    "        energy_values = [gm.target_manager.target_route_energy for gm in self.game_managers]\n",
    "        simulation_points = [energy_values[i] for i in self.curriculum_indices]\n",
    "\n",
    "        # Save a reference to the original axis\n",
    "        ax1 = plt.gca()\n",
    "\n",
    "        plt.plot(energy_values, label='Energy for trade route')\n",
    "        plt.scatter(self.curriculum_indices, simulation_points, color='red', zorder=5, label='Simulation Points', s=7)\n",
    "        plt.xlabel('Environment index')\n",
    "        plt.ylabel('Energy required for trade route')\n",
    "        plt.title('Energy required for trade route for each environment')\n",
    "\n",
    "        # Creating a twin of the original y-axis to use for the step_size note\n",
    "        ax2 = plt.twinx()\n",
    "        # Use the set_ylabel to add your note, align it to the top to make it visually distinct\n",
    "        ax2.set_ylabel(f'Curriculum step size: ~{step_size} energy units', fontsize=10, color='blue')\n",
    "        # Turn off ticks and tick labels for the secondary axis if it's only used for the note\n",
    "        ax2.tick_params(right=False, labelright=False)\n",
    "\n",
    "        # Explicitly create the legend for the primary axis\n",
    "        ax1.legend()\n",
    "\n",
    "        plt.show()"
   ]
  }
 ],
 "metadata": {
  "kernelspec": {
   "display_name": "Python 3",
   "language": "python",
   "name": "python3"
  },
  "language_info": {
   "codemirror_mode": {
    "name": "ipython",
    "version": 3
   },
   "file_extension": ".py",
   "mimetype": "text/x-python",
   "name": "python",
   "nbconvert_exporter": "python",
   "pygments_lexer": "ipython3",
   "version": "3.11.7"
  }
 },
 "nbformat": 4,
 "nbformat_minor": 2
}
