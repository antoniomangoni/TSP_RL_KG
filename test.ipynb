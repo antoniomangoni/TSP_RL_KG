{
 "cells": [
  {
   "cell_type": "code",
   "execution_count": null,
   "metadata": {},
   "outputs": [],
   "source": [
    "    def complete_graph(self):\n",
    "        self.add_nodes()\n",
    "\n",
    "        self.terrain_edge_list = []\n",
    "        self.entity_edge_list = []\n",
    "\n",
    "        self.create_terrain_edges()\n",
    "        print(f\"Graph edge_index with only terrains: {self.graph.edge_index}\")\n",
    "        # count non-negative values in edge_index\n",
    "        print(f\"Non-negative values in edge_index with only terrains: {torch.sum(self.graph.edge_index[0] >= 0)}\")\n",
    "        print(f'Length of terrain edge list: {len(self.terrain_edge_list)}')\n",
    "        \n",
    "        self.count_entity_nodes()\n",
    "\n",
    "        self.add_entity_edges()  \n",
    "\n",
    "        print(f\"Non-negative values in edge_index after adding entities: {torch.sum(self.graph.edge_index[0] >= 0)}\")\n",
    "\n",
    "        num_of_entities = np.count_nonzero(self.entity_array)\n",
    "        print(f\"Number of entities: {num_of_entities}\")\n",
    "        print(f\"Edge number minus number of entities: {self.graph.edge_index.shape[1] - num_of_entities}\")\n",
    "        print(f\"Edge number minus number of entities (x4 cause of edges): {self.graph.edge_index.shape[1] - num_of_entities * 4}\")\n",
    "\n",
    "        print(f\"Graph edge_index with also entities: {self.graph.edge_index}\")\n",
    "\n",
    "        self.verify_graph_integrity()"
   ]
  },
  {
   "cell_type": "code",
   "execution_count": 21,
   "metadata": {},
   "outputs": [],
   "source": [
    "def len_tensor(list : list):\n",
    "    print(f'Length of tensor: {len(list[0])}')\n",
    "    negatives = []\n",
    "    for i in range(len(list)):\n",
    "        while list[i][-1] == -1:\n",
    "            neg = list[i].pop()\n",
    "            negatives.append(neg)\n",
    "\n",
    "    assert all(len(list[0]) == len(i) for i in list)\n",
    "    print(f'Length of non-negative tensor: {len(list[0])}')\n",
    "    print(f'Length of negative tensors: {len(negatives)}')"
   ]
  },
  {
   "cell_type": "code",
   "execution_count": 22,
   "metadata": {},
   "outputs": [],
   "source": [
    "foo1 = [[ 1,  3,  1, 13, 13, 15, 13, 25, 25, 27, 25, 37, 37, 39, 37, 49, 49, 51,\n",
    "         49, 61, 61, 63,  3,  5,  3, 15, 15, 17, 15, 27, 27, 29, 27, 39, 39, 41,\n",
    "         39, 51, 51, 53, 51, 63, 63, 65,  5,  7,  5, 17, 17, 19, 17, 29, 29, 31,\n",
    "         29, 41, 41, 43, 41, 53, 53, 55, 53, 65, 65, 67,  7,  9,  7, 19, 19, 21,\n",
    "         19, 31, 31, 33, 31, 43, 43, 45, 43, 55, 55, 57, 55, 67, 67, 69,  9, 11,\n",
    "          9, 21, 21, 23, 21, 33, 33, 35, 33, 45, 45, 47, 45, 57, 57, 59, 57, 69,\n",
    "         69, 71, 11, 23, 23, 35, 35, 47, 47, 59, 59, 71, -1, -1, -1, -1, -1, -1,\n",
    "         -1, -1, -1, -1, -1, -1, -1, -1, -1, -1, -1, -1, -1, -1, -1, -1, -1, -1,\n",
    "         -1, -1, -1, -1, -1, -1, -1, -1, -1, -1, -1, -1, -1, -1, -1, -1, -1, -1,\n",
    "         -1, -1, -1, -1, -1, -1, -1, -1, -1, -1, -1, -1, -1, -1, -1, -1, -1, -1,\n",
    "         -1, -1, -1, -1, -1, -1, -1, -1, -1, -1, -1, -1, -1, -1, -1, -1, -1, -1,\n",
    "         -1, -1, -1, -1, -1, -1, -1, -1, -1, -1, -1, -1, -1, -1, -1, -1, -1, -1,\n",
    "         -1, -1, -1, -1, -1, -1, -1, -1, -1, -1, -1, -1, -1, -1, -1, -1, -1, -1,\n",
    "         -1, -1, -1, -1, -1, -1, -1, -1, -1, -1, -1, -1, -1, -1, -1, -1, -1, -1,\n",
    "         -1, -1, -1, -1, -1, -1, -1, -1, -1, -1, -1, -1],\n",
    "        [ 3,  1, 13,  1, 15, 13, 25, 13, 27, 25, 37, 25, 39, 37, 49, 37, 51, 49,\n",
    "         61, 49, 63, 61,  5,  3, 15,  3, 17, 15, 27, 15, 29, 27, 39, 27, 41, 39,\n",
    "         51, 39, 53, 51, 63, 51, 65, 63,  7,  5, 17,  5, 19, 17, 29, 17, 31, 29,\n",
    "         41, 29, 43, 41, 53, 41, 55, 53, 65, 53, 67, 65,  9,  7, 19,  7, 21, 19,\n",
    "         31, 19, 33, 31, 43, 31, 45, 43, 55, 43, 57, 55, 67, 55, 69, 67, 11,  9,\n",
    "         21,  9, 23, 21, 33, 21, 35, 33, 45, 33, 47, 45, 57, 45, 59, 57, 69, 57,\n",
    "         71, 69, 23, 11, 35, 23, 47, 35, 59, 47, 71, 59, -1, -1, -1, -1, -1, -1,\n",
    "         -1, -1, -1, -1, -1, -1, -1, -1, -1, -1, -1, -1, -1, -1, -1, -1, -1, -1,\n",
    "         -1, -1, -1, -1, -1, -1, -1, -1, -1, -1, -1, -1, -1, -1, -1, -1, -1, -1,\n",
    "         -1, -1, -1, -1, -1, -1, -1, -1, -1, -1, -1, -1, -1, -1, -1, -1, -1, -1,\n",
    "         -1, -1, -1, -1, -1, -1, -1, -1, -1, -1, -1, -1, -1, -1, -1, -1, -1, -1,\n",
    "         -1, -1, -1, -1, -1, -1, -1, -1, -1, -1, -1, -1, -1, -1, -1, -1, -1, -1,\n",
    "         -1, -1, -1, -1, -1, -1, -1, -1, -1, -1, -1, -1, -1, -1, -1, -1, -1, -1,\n",
    "         -1, -1, -1, -1, -1, -1, -1, -1, -1, -1, -1, -1, -1, -1, -1, -1, -1, -1,\n",
    "         -1, -1, -1, -1, -1, -1, -1, -1, -1, -1, -1, -1]]"
   ]
  },
  {
   "cell_type": "code",
   "execution_count": 23,
   "metadata": {},
   "outputs": [],
   "source": [
    "foo = [[ 1,  3,  1, 13, 13, 15, 13, 25, 25, 27, 25, 37, 37, 39, 37, 49, 49, 51,\n",
    "         49, 61, 61, 63,  3,  5,  3, 15, 15, 17, 15, 27, 27, 29, 27, 39, 39, 41,\n",
    "         39, 51, 51, 53, 51, 63, 63, 65,  5,  7,  5, 17, 17, 19, 17, 29, 29, 31,\n",
    "         29, 41, 41, 43, 41, 53, 53, 55, 53, 65, 65, 67,  7,  9,  7, 19, 19, 21,\n",
    "         19, 31, 31, 33, 31, 43, 43, 45, 43, 55, 55, 57, 55, 67, 67, 69,  9, 11,\n",
    "          9, 21, 21, 23, 21, 33, 33, 35, 33, 45, 45, 47, 45, 57, 57, 59, 57, 69,\n",
    "         69, 71, 11, 23, 23, 35, 35, 47, 47, 59, 59, 71, 14, 13, 14,  0, 26, 25,\n",
    "         26,  0, 16, 15, 16,  0, 28, 27, 28,  0, 52, 51, 52,  0, 18, 17, 18,  0,\n",
    "         66, 65, 66,  0, 32, 31, 32,  0, 56, 55, 56,  0, 68, 67, 68,  0, 58, 57,\n",
    "         58,  0, 48, 47, 48,  0, -1, -1, -1, -1, -1, -1, -1, -1, -1, -1, -1, -1,\n",
    "         -1, -1, -1, -1, -1, -1, -1, -1, -1, -1, -1, -1, -1, -1, -1, -1, -1, -1,\n",
    "         -1, -1, -1, -1, -1, -1, -1, -1, -1, -1, -1, -1, -1, -1, -1, -1, -1, -1,\n",
    "         -1, -1, -1, -1, -1, -1, -1, -1, -1, -1, -1, -1, -1, -1, -1, -1, -1, -1,\n",
    "         -1, -1, -1, -1, -1, -1, -1, -1, -1, -1, -1, -1, -1, -1, -1, -1, -1, -1,\n",
    "         -1, -1, -1, -1, -1, -1, -1, -1, -1, -1, -1, -1],\n",
    "        [ 3,  1, 13,  1, 15, 13, 25, 13, 27, 25, 37, 25, 39, 37, 49, 37, 51, 49,\n",
    "         61, 49, 63, 61,  5,  3, 15,  3, 17, 15, 27, 15, 29, 27, 39, 27, 41, 39,\n",
    "         51, 39, 53, 51, 63, 51, 65, 63,  7,  5, 17,  5, 19, 17, 29, 17, 31, 29,\n",
    "         41, 29, 43, 41, 53, 41, 55, 53, 65, 53, 67, 65,  9,  7, 19,  7, 21, 19,\n",
    "         31, 19, 33, 31, 43, 31, 45, 43, 55, 43, 57, 55, 67, 55, 69, 67, 11,  9,\n",
    "         21,  9, 23, 21, 33, 21, 35, 33, 45, 33, 47, 45, 57, 45, 59, 57, 69, 57,\n",
    "         71, 69, 23, 11, 35, 23, 47, 35, 59, 47, 71, 59, 13, 14,  0, 14, 25, 26,\n",
    "          0, 26, 15, 16,  0, 16, 27, 28,  0, 28, 51, 52,  0, 52, 17, 18,  0, 18,\n",
    "         65, 66,  0, 66, 31, 32,  0, 32, 55, 56,  0, 56, 67, 68,  0, 68, 57, 58,\n",
    "          0, 58, 47, 48,  0, 48, -1, -1, -1, -1, -1, -1, -1, -1, -1, -1, -1, -1,\n",
    "         -1, -1, -1, -1, -1, -1, -1, -1, -1, -1, -1, -1, -1, -1, -1, -1, -1, -1,\n",
    "         -1, -1, -1, -1, -1, -1, -1, -1, -1, -1, -1, -1, -1, -1, -1, -1, -1, -1,\n",
    "         -1, -1, -1, -1, -1, -1, -1, -1, -1, -1, -1, -1, -1, -1, -1, -1, -1, -1,\n",
    "         -1, -1, -1, -1, -1, -1, -1, -1, -1, -1, -1, -1, -1, -1, -1, -1, -1, -1,\n",
    "         -1, -1, -1, -1, -1, -1, -1, -1, -1, -1, -1, -1]]"
   ]
  },
  {
   "cell_type": "code",
   "execution_count": 24,
   "metadata": {},
   "outputs": [
    {
     "name": "stdout",
     "output_type": "stream",
     "text": [
      "Length of tensor: 264\n",
      "Length of non-negative tensor: 120\n",
      "Length of negative tensors: 288\n",
      "Length of tensor: 264\n",
      "Length of non-negative tensor: 168\n",
      "Length of negative tensors: 192\n"
     ]
    }
   ],
   "source": [
    "len_tensor(foo1)\n",
    "len_tensor(foo)"
   ]
  },
  {
   "cell_type": "code",
   "execution_count": 20,
   "metadata": {},
   "outputs": [
    {
     "name": "stdout",
     "output_type": "stream",
     "text": [
      "264\n"
     ]
    }
   ],
   "source": [
    "k = [ 1,  3,  1, 13, 13, 15, 13, 25, 25, 27, 25, 37, 37, 39, 37, 49, 49, 51,\n",
    "         49, 61, 61, 63,  3,  5,  3, 15, 15, 17, 15, 27, 27, 29, 27, 39, 39, 41,\n",
    "         39, 51, 51, 53, 51, 63, 63, 65,  5,  7,  5, 17, 17, 19, 17, 29, 29, 31,\n",
    "         29, 41, 41, 43, 41, 53, 53, 55, 53, 65, 65, 67,  7,  9,  7, 19, 19, 21,\n",
    "         19, 31, 31, 33, 31, 43, 43, 45, 43, 55, 55, 57, 55, 67, 67, 69,  9, 11,\n",
    "          9, 21, 21, 23, 21, 33, 33, 35, 33, 45, 45, 47, 45, 57, 57, 59, 57, 69,\n",
    "         69, 71, 11, 23, 23, 35, 35, 47, 47, 59, 59, 71, -1, -1, -1, -1, -1, -1,\n",
    "         -1, -1, -1, -1, -1, -1, -1, -1, -1, -1, -1, -1, -1, -1, -1, -1, -1, -1,\n",
    "         -1, -1, -1, -1, -1, -1, -1, -1, -1, -1, -1, -1, -1, -1, -1, -1, -1, -1,\n",
    "         -1, -1, -1, -1, -1, -1, -1, -1, -1, -1, -1, -1, -1, -1, -1, -1, -1, -1,\n",
    "         -1, -1, -1, -1, -1, -1, -1, -1, -1, -1, -1, -1, -1, -1, -1, -1, -1, -1,\n",
    "         -1, -1, -1, -1, -1, -1, -1, -1, -1, -1, -1, -1, -1, -1, -1, -1, -1, -1,\n",
    "         -1, -1, -1, -1, -1, -1, -1, -1, -1, -1, -1, -1, -1, -1, -1, -1, -1, -1,\n",
    "         -1, -1, -1, -1, -1, -1, -1, -1, -1, -1, -1, -1, -1, -1, -1, -1, -1, -1,\n",
    "         -1, -1, -1, -1, -1, -1, -1, -1, -1, -1, -1, -1]\n",
    "\n",
    "print(len(k))"
   ]
  },
  {
   "cell_type": "code",
   "execution_count": null,
   "metadata": {},
   "outputs": [],
   "source": [
    "    def complete_graph(self):\n",
    "        self.add_nodes()\n",
    "        self.create_terrain_edges()\n",
    "        # print number of non-zero edges\n",
    "        non_zero_edges = torch.sum(self.graph.edge_attr[:, 1]).item()\n",
    "        num_edges = self.graph.edge_index.shape[1]\n",
    "        terrain_edges = 2 * ((self.environment.width * (self.environment.height - 1)) + (self.environment.height * (self.environment.width - 1)))\n",
    "        # assert non_zero_edges == terrain_edges, f\"Terrain edges are not equal to non-zero edges: {non_zero_edges} != {terrain_edges}\"\t\n",
    "        self.add_entity_edges()\n",
    "        non_zero_edges_ = torch.sum(self.graph.edge_attr[:, 1]).item()\n",
    "        # print only the entity edges\n",
    "        # assert non_zero_edges_ == len(self.graph.edge_index[0]) - non_zero_edges, f\"Entity edges are not equal to non-zero edges: {non_zero_edges_} != {len(self.graph.edge_index[0]) - non_zero_edges}, {self.graph.edge_index}, \"\n",
    "                \n",
    "        print(f\"Graph completed with {self.graph_manager.current_edge_idx} edges\")\n",
    "        print(f\"Graph x shape: {self.graph.x.shape}\")\n",
    "        print(f\"Graph edge_index shape: {self.graph.edge_index.shape}\") \n",
    "        print(f\"Graph edge_attr shape: {self.graph.edge_attr.shape}\")\n",
    "        print(f\"Graph edge_index: {self.graph.edge_index}\")\n",
    "        self.verify_graph_integrity()\n",
    "        exit()"
   ]
  },
  {
   "cell_type": "code",
   "execution_count": null,
   "metadata": {},
   "outputs": [],
   "source": [
    "def complete_graph(self):\n",
    "    self.add_nodes()\n",
    "    self.create_terrain_edges()\n",
    "    # print number of non-zero edges\n",
    "    non_zero_edges = torch.sum(self.graph.edge_attr[:, 1]).item()\n",
    "    num_edges = self.graph.edge_index.shape[1]\n",
    "    terrain_edges = 2 * ((self.environment.width * (self.environment.height - 1)) + (self.environment.height * (self.environment.width - 1)))\n",
    "    assert non_zero_edges == terrain_edges, f\"Terrain edges are not equal to non-zero edges: {non_zero_edges} != {terrain_edges}\"\t\n",
    "    self.add_entity_edges()\n",
    "    non_zero_edges_ = torch.sum(self.graph.edge_attr[:, 1]).item()\n",
    "    # print only the entity edges\n",
    "    print()\n",
    "    assert non_zero_edges_ == len(self.graph.edge_index[0]) - non_zero_edges, f\"Entity edges are not equal to non-zero edges: {non_zero_edges_} != {len(self.graph.edge_index[0]) - non_zero_edges}, {self.graph.edge_index}, \"\n",
    "    \n",
    "    \n",
    "    \n",
    "    \n",
    "    print(f\"Graph completed with {self.current_edge_index} edges\")\n",
    "    print(f\"Graph x shape: {self.graph.x.shape}\")\n",
    "    print(f\"Graph edge_index shape: {self.graph.edge_index.shape}\") \n",
    "    print(f\"Graph edge_attr shape: {self.graph.edge_attr.shape}\")\n",
    "    print(f\"Graph x: {self.graph.x}\")\n",
    "    print(f\"Graph edge_index: {self.graph.edge_index}\")\n",
    "    print(f\"Graph edge_attr: {self.graph.edge_attr}\")\n",
    "    exit()"
   ]
  }
 ],
 "metadata": {
  "kernelspec": {
   "display_name": "Python 3",
   "language": "python",
   "name": "python3"
  },
  "language_info": {
   "codemirror_mode": {
    "name": "ipython",
    "version": 3
   },
   "file_extension": ".py",
   "mimetype": "text/x-python",
   "name": "python",
   "nbconvert_exporter": "python",
   "pygments_lexer": "ipython3",
   "version": "3.11.7"
  }
 },
 "nbformat": 4,
 "nbformat_minor": 2
}
